{
 "cells": [
  {
   "cell_type": "code",
   "execution_count": null,
   "id": "3af2d400",
   "metadata": {},
   "outputs": [],
   "source": [
    "## task 1"
   ]
  },
  {
   "cell_type": "code",
   "execution_count": 5,
   "id": "6451d2a9",
   "metadata": {},
   "outputs": [],
   "source": [
    "import numpy as np"
   ]
  },
  {
   "cell_type": "code",
   "execution_count": 6,
   "id": "9fda8c14",
   "metadata": {},
   "outputs": [],
   "source": [
    "\n",
    "\n",
    "class Perceptron:\n",
    "    def __init__(self, num_inputs):\n",
    "        self.weights = np.random.rand(num_inputs)\n",
    "        self.bias = np.random.rand()\n",
    "\n",
    "    def activation(self, x):\n",
    "        # Step function\n",
    "        return 1 if x >= 0 else 0\n",
    "\n",
    "    def weighted_sum(self, inputs):\n",
    "        return np.dot(inputs, self.weights) + self.bias\n",
    "\n",
    "    def predict(self, inputs):\n",
    "        return self.activation(self.weighted_sum(inputs))\n",
    "\n",
    "    def train(self, inputs, targets, learning_rate=0.1, epochs=100):\n",
    "        for _ in range(epochs):\n",
    "            for input_row, target in zip(inputs, targets):\n",
    "                prediction = self.predict(input_row)\n",
    "                error = target - prediction\n",
    "                self.weights += learning_rate * error * input_row\n",
    "                self.bias += learning_rate * error"
   ]
  },
  {
   "cell_type": "code",
   "execution_count": 7,
   "id": "9f6b4c56",
   "metadata": {},
   "outputs": [],
   "source": [
    "points = np.array([[-1, -1, -1], [-1, -1, 1], [-1, 1, -1], [-1, 1, 1],\n",
    "                   [1, -1, -1], [1, -1, 1], [1, 1, -1], [1, 1, 1]])\n",
    "classes = np.array([0, 0, 0, 0, 1, 1, 1, 1])"
   ]
  },
  {
   "cell_type": "code",
   "execution_count": 8,
   "id": "861b139b",
   "metadata": {},
   "outputs": [],
   "source": [
    "perceptron = Perceptron(num_inputs=3)"
   ]
  },
  {
   "cell_type": "code",
   "execution_count": 9,
   "id": "78ebaf91",
   "metadata": {},
   "outputs": [],
   "source": [
    "perceptron.train(points, classes)"
   ]
  },
  {
   "cell_type": "code",
   "execution_count": 10,
   "id": "c9fb9d00",
   "metadata": {},
   "outputs": [
    {
     "name": "stdout",
     "output_type": "stream",
     "text": [
      "Testing the trained perceptron for binary classification:\n",
      "Input: [-1 -1 -1], Predicted Class: 0\n",
      "Input: [-1 -1  1], Predicted Class: 0\n",
      "Input: [-1  1 -1], Predicted Class: 0\n",
      "Input: [-1  1  1], Predicted Class: 0\n",
      "Input: [ 1 -1 -1], Predicted Class: 1\n",
      "Input: [ 1 -1  1], Predicted Class: 1\n",
      "Input: [ 1  1 -1], Predicted Class: 1\n",
      "Input: [1 1 1], Predicted Class: 1\n"
     ]
    }
   ],
   "source": [
    "print(\"Testing the trained perceptron for binary classification:\")\n",
    "for point in points:\n",
    "    print(f\"Input: {point}, Predicted Class: {perceptron.predict(point)}\")"
   ]
  },
  {
   "cell_type": "code",
   "execution_count": null,
   "id": "95d54fba",
   "metadata": {},
   "outputs": [],
   "source": [
    "## task 2"
   ]
  },
  {
   "cell_type": "code",
   "execution_count": 11,
   "id": "1160241f",
   "metadata": {},
   "outputs": [],
   "source": [
    "inputs_and = np.array([[0, 0], [0, 1], [1, 0], [1, 1]])\n",
    "inputs_or = inputs_and\n",
    "inputs_not = np.array([[0], [1]])"
   ]
  },
  {
   "cell_type": "code",
   "execution_count": 16,
   "id": "f33b03ea",
   "metadata": {},
   "outputs": [],
   "source": [
    "target_and = np.array([0, 0, 0, 1])\n",
    "target_or = np.array([0, 1, 1, 1])\n",
    "target_not = np.array([1, 0])"
   ]
  },
  {
   "cell_type": "code",
   "execution_count": 17,
   "id": "96531db8",
   "metadata": {},
   "outputs": [],
   "source": [
    "perceptron_and = Perceptron(num_inputs=2)\n",
    "perceptron_or = Perceptron(num_inputs=2)\n",
    "perceptron_not = Perceptron(num_inputs=1)"
   ]
  },
  {
   "cell_type": "code",
   "execution_count": 18,
   "id": "36049d6c",
   "metadata": {},
   "outputs": [],
   "source": [
    "perceptron_and.train(inputs_and, target_and)\n",
    "perceptron_or.train(inputs_or, target_or)\n",
    "perceptron_not.train(inputs_not, target_not)"
   ]
  },
  {
   "cell_type": "code",
   "execution_count": 20,
   "id": "b60b4559",
   "metadata": {},
   "outputs": [
    {
     "name": "stdout",
     "output_type": "stream",
     "text": [
      "\n",
      "Testing the trained perceptrons for logic gates:\n",
      "AND Gate:\n",
      "Input: [0 0], Output: 0\n",
      "Input: [0 1], Output: 0\n",
      "Input: [1 0], Output: 0\n",
      "Input: [1 1], Output: 1\n"
     ]
    }
   ],
   "source": [
    "print(\"\\nTesting the trained perceptrons for logic gates:\")\n",
    "print(\"AND Gate:\")\n",
    "for input_row in inputs_and:\n",
    "    print(f\"Input: {input_row}, Output: {perceptron_and.predict(input_row)}\")"
   ]
  },
  {
   "cell_type": "code",
   "execution_count": 21,
   "id": "ca7d5a4d",
   "metadata": {},
   "outputs": [
    {
     "name": "stdout",
     "output_type": "stream",
     "text": [
      "\n",
      "OR Gate:\n",
      "Input: [0 0], Output: 0\n",
      "Input: [0 1], Output: 1\n",
      "Input: [1 0], Output: 1\n",
      "Input: [1 1], Output: 1\n"
     ]
    }
   ],
   "source": [
    "print(\"\\nOR Gate:\")\n",
    "for input_row in inputs_or:\n",
    "    print(f\"Input: {input_row}, Output: {perceptron_or.predict(input_row)}\")"
   ]
  },
  {
   "cell_type": "code",
   "execution_count": 22,
   "id": "0f8b7fde",
   "metadata": {},
   "outputs": [
    {
     "name": "stdout",
     "output_type": "stream",
     "text": [
      "\n",
      "NOT Gate:\n",
      "Input: [0], Output: 1\n",
      "Input: [1], Output: 0\n"
     ]
    }
   ],
   "source": [
    "print(\"\\nNOT Gate:\")\n",
    "for input_row in inputs_not:\n",
    "    print(f\"Input: {input_row}, Output: {perceptron_not.predict(input_row)}\")"
   ]
  },
  {
   "cell_type": "code",
   "execution_count": null,
   "id": "00750740",
   "metadata": {},
   "outputs": [],
   "source": []
  },
  {
   "cell_type": "code",
   "execution_count": null,
   "id": "526772b2",
   "metadata": {},
   "outputs": [],
   "source": []
  },
  {
   "cell_type": "code",
   "execution_count": null,
   "id": "5c88e0d8",
   "metadata": {},
   "outputs": [],
   "source": []
  },
  {
   "cell_type": "code",
   "execution_count": null,
   "id": "7be0f340",
   "metadata": {},
   "outputs": [],
   "source": []
  },
  {
   "cell_type": "code",
   "execution_count": null,
   "id": "90caaaa1",
   "metadata": {},
   "outputs": [],
   "source": []
  },
  {
   "cell_type": "code",
   "execution_count": null,
   "id": "f330bb37",
   "metadata": {},
   "outputs": [],
   "source": []
  },
  {
   "cell_type": "code",
   "execution_count": null,
   "id": "3e6f6a4e",
   "metadata": {},
   "outputs": [],
   "source": []
  },
  {
   "cell_type": "code",
   "execution_count": null,
   "id": "f3292476",
   "metadata": {},
   "outputs": [],
   "source": []
  },
  {
   "cell_type": "code",
   "execution_count": null,
   "id": "bf6934e0",
   "metadata": {},
   "outputs": [],
   "source": []
  },
  {
   "cell_type": "code",
   "execution_count": null,
   "id": "1acc699d",
   "metadata": {},
   "outputs": [],
   "source": []
  },
  {
   "cell_type": "code",
   "execution_count": null,
   "id": "2b2f24c4",
   "metadata": {},
   "outputs": [],
   "source": []
  },
  {
   "cell_type": "code",
   "execution_count": null,
   "id": "84e6f4ba",
   "metadata": {},
   "outputs": [],
   "source": []
  },
  {
   "cell_type": "code",
   "execution_count": null,
   "id": "e6ddda00",
   "metadata": {},
   "outputs": [],
   "source": []
  },
  {
   "cell_type": "code",
   "execution_count": null,
   "id": "defc78a1",
   "metadata": {},
   "outputs": [],
   "source": []
  },
  {
   "cell_type": "code",
   "execution_count": null,
   "id": "9dd80333",
   "metadata": {},
   "outputs": [],
   "source": []
  },
  {
   "cell_type": "code",
   "execution_count": null,
   "id": "df2e922f",
   "metadata": {},
   "outputs": [],
   "source": []
  },
  {
   "cell_type": "code",
   "execution_count": null,
   "id": "f1ebe098",
   "metadata": {},
   "outputs": [],
   "source": []
  },
  {
   "cell_type": "code",
   "execution_count": null,
   "id": "f987bfb4",
   "metadata": {},
   "outputs": [],
   "source": []
  },
  {
   "cell_type": "code",
   "execution_count": null,
   "id": "2342e9e7",
   "metadata": {},
   "outputs": [],
   "source": []
  },
  {
   "cell_type": "code",
   "execution_count": null,
   "id": "f8aa2e81",
   "metadata": {},
   "outputs": [],
   "source": []
  },
  {
   "cell_type": "code",
   "execution_count": null,
   "id": "4f7eb0a3",
   "metadata": {},
   "outputs": [],
   "source": []
  },
  {
   "cell_type": "code",
   "execution_count": null,
   "id": "ee3b2d43",
   "metadata": {},
   "outputs": [],
   "source": []
  },
  {
   "cell_type": "code",
   "execution_count": null,
   "id": "3339bcb2",
   "metadata": {},
   "outputs": [],
   "source": []
  },
  {
   "cell_type": "code",
   "execution_count": null,
   "id": "a0295277",
   "metadata": {},
   "outputs": [],
   "source": []
  },
  {
   "cell_type": "code",
   "execution_count": null,
   "id": "ee1faa4a",
   "metadata": {},
   "outputs": [],
   "source": []
  },
  {
   "cell_type": "code",
   "execution_count": null,
   "id": "e96c76f3",
   "metadata": {},
   "outputs": [],
   "source": []
  },
  {
   "cell_type": "code",
   "execution_count": null,
   "id": "e945f66a",
   "metadata": {},
   "outputs": [],
   "source": []
  },
  {
   "cell_type": "code",
   "execution_count": null,
   "id": "31539bfa",
   "metadata": {},
   "outputs": [],
   "source": []
  },
  {
   "cell_type": "code",
   "execution_count": null,
   "id": "9bba5b74",
   "metadata": {},
   "outputs": [],
   "source": []
  },
  {
   "cell_type": "code",
   "execution_count": null,
   "id": "e734aab8",
   "metadata": {},
   "outputs": [],
   "source": []
  },
  {
   "cell_type": "code",
   "execution_count": null,
   "id": "9b085864",
   "metadata": {},
   "outputs": [],
   "source": []
  },
  {
   "cell_type": "code",
   "execution_count": null,
   "id": "9c6c59d2",
   "metadata": {},
   "outputs": [],
   "source": []
  },
  {
   "cell_type": "code",
   "execution_count": null,
   "id": "5f9ee86b",
   "metadata": {},
   "outputs": [],
   "source": []
  },
  {
   "cell_type": "code",
   "execution_count": null,
   "id": "86cd5ba3",
   "metadata": {},
   "outputs": [],
   "source": []
  },
  {
   "cell_type": "code",
   "execution_count": null,
   "id": "e8942094",
   "metadata": {},
   "outputs": [],
   "source": []
  },
  {
   "cell_type": "code",
   "execution_count": null,
   "id": "e4838664",
   "metadata": {},
   "outputs": [],
   "source": []
  },
  {
   "cell_type": "code",
   "execution_count": null,
   "id": "a107118f",
   "metadata": {},
   "outputs": [],
   "source": []
  },
  {
   "cell_type": "code",
   "execution_count": null,
   "id": "47764ef2",
   "metadata": {},
   "outputs": [],
   "source": []
  }
 ],
 "metadata": {
  "kernelspec": {
   "display_name": "Python 3 (ipykernel)",
   "language": "python",
   "name": "python3"
  },
  "language_info": {
   "codemirror_mode": {
    "name": "ipython",
    "version": 3
   },
   "file_extension": ".py",
   "mimetype": "text/x-python",
   "name": "python",
   "nbconvert_exporter": "python",
   "pygments_lexer": "ipython3",
   "version": "3.11.5"
  }
 },
 "nbformat": 4,
 "nbformat_minor": 5
}
